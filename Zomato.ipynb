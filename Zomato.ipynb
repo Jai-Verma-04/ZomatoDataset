{
 "cells": [
  {
   "cell_type": "markdown",
   "metadata": {},
   "source": [
    "Importing the required libraries"
   ]
  },
  {
   "cell_type": "code",
   "execution_count": 231,
   "metadata": {},
   "outputs": [],
   "source": [
    "import pandas as pd\n",
    "from matplotlib import pyplot as plt"
   ]
  },
  {
   "cell_type": "markdown",
   "metadata": {},
   "source": [
    "Reading the Zomato Dataset File"
   ]
  },
  {
   "cell_type": "code",
   "execution_count": 232,
   "metadata": {},
   "outputs": [
    {
     "data": {
      "text/html": [
       "<div>\n",
       "<style scoped>\n",
       "    .dataframe tbody tr th:only-of-type {\n",
       "        vertical-align: middle;\n",
       "    }\n",
       "\n",
       "    .dataframe tbody tr th {\n",
       "        vertical-align: top;\n",
       "    }\n",
       "\n",
       "    .dataframe thead th {\n",
       "        text-align: right;\n",
       "    }\n",
       "</style>\n",
       "<table border=\"1\" class=\"dataframe\">\n",
       "  <thead>\n",
       "    <tr style=\"text-align: right;\">\n",
       "      <th></th>\n",
       "      <th>name</th>\n",
       "      <th>online_order</th>\n",
       "      <th>book_table</th>\n",
       "      <th>rate</th>\n",
       "      <th>votes</th>\n",
       "      <th>location</th>\n",
       "      <th>rest_type</th>\n",
       "      <th>cuisines</th>\n",
       "      <th>approx_cost(for two people)</th>\n",
       "    </tr>\n",
       "  </thead>\n",
       "  <tbody>\n",
       "    <tr>\n",
       "      <th>0</th>\n",
       "      <td>Jalsa</td>\n",
       "      <td>Yes</td>\n",
       "      <td>Yes</td>\n",
       "      <td>4.1/5</td>\n",
       "      <td>775.0</td>\n",
       "      <td>Banashankari</td>\n",
       "      <td>Casual Dining</td>\n",
       "      <td>North Indian, Mughlai, Chinese</td>\n",
       "      <td>₹ 800.00</td>\n",
       "    </tr>\n",
       "    <tr>\n",
       "      <th>1</th>\n",
       "      <td>Spice Elephant</td>\n",
       "      <td>Yes</td>\n",
       "      <td>No</td>\n",
       "      <td>4.1/5</td>\n",
       "      <td>787.0</td>\n",
       "      <td>Banashankari</td>\n",
       "      <td>Casual Dining</td>\n",
       "      <td>Chinese, North Indian, Thai</td>\n",
       "      <td>₹ 800.00</td>\n",
       "    </tr>\n",
       "    <tr>\n",
       "      <th>2</th>\n",
       "      <td>San Churro Cafe</td>\n",
       "      <td>Yes</td>\n",
       "      <td>No</td>\n",
       "      <td>3.8/5</td>\n",
       "      <td>918.0</td>\n",
       "      <td>Banashankari</td>\n",
       "      <td>Cafe, Casual Dining</td>\n",
       "      <td>Cafe, Mexican, Italian</td>\n",
       "      <td>₹ 800.00</td>\n",
       "    </tr>\n",
       "    <tr>\n",
       "      <th>3</th>\n",
       "      <td>Addhuri Udupi Bhojana</td>\n",
       "      <td>No</td>\n",
       "      <td>No</td>\n",
       "      <td>3.7/5</td>\n",
       "      <td>88.0</td>\n",
       "      <td>Banashankari</td>\n",
       "      <td>Quick Bites</td>\n",
       "      <td>South Indian, North Indian</td>\n",
       "      <td>₹ 300.00</td>\n",
       "    </tr>\n",
       "    <tr>\n",
       "      <th>4</th>\n",
       "      <td>Grand Village</td>\n",
       "      <td>No</td>\n",
       "      <td>No</td>\n",
       "      <td>3.8/5</td>\n",
       "      <td>166.0</td>\n",
       "      <td>Basavanagudi</td>\n",
       "      <td>Casual Dining</td>\n",
       "      <td>North Indian, Rajasthani</td>\n",
       "      <td>₹ 600.00</td>\n",
       "    </tr>\n",
       "    <tr>\n",
       "      <th>5</th>\n",
       "      <td>Timepass Dinner</td>\n",
       "      <td>Yes</td>\n",
       "      <td>No</td>\n",
       "      <td>3.8/5</td>\n",
       "      <td>286.0</td>\n",
       "      <td>Basavanagudi</td>\n",
       "      <td>Casual Dining</td>\n",
       "      <td>North Indian</td>\n",
       "      <td>₹ 600.00</td>\n",
       "    </tr>\n",
       "    <tr>\n",
       "      <th>6</th>\n",
       "      <td>Rosewood International Hotel - Bar &amp; Restaurant</td>\n",
       "      <td>No</td>\n",
       "      <td>No</td>\n",
       "      <td>3.6/5</td>\n",
       "      <td>8.0</td>\n",
       "      <td>Mysore Road</td>\n",
       "      <td>Casual Dining</td>\n",
       "      <td>North Indian, South Indian, Andhra, Chinese</td>\n",
       "      <td>₹ 800.00</td>\n",
       "    </tr>\n",
       "    <tr>\n",
       "      <th>7</th>\n",
       "      <td>Onesta</td>\n",
       "      <td>Yes</td>\n",
       "      <td>Yes</td>\n",
       "      <td>4.6/5</td>\n",
       "      <td>2556.0</td>\n",
       "      <td>Banashankari</td>\n",
       "      <td>Casual Dining, Cafe</td>\n",
       "      <td>Pizza, Cafe, Italian</td>\n",
       "      <td>₹ 600.00</td>\n",
       "    </tr>\n",
       "    <tr>\n",
       "      <th>8</th>\n",
       "      <td>Penthouse Cafe</td>\n",
       "      <td>Yes</td>\n",
       "      <td>No</td>\n",
       "      <td>4.0/5</td>\n",
       "      <td>324.0</td>\n",
       "      <td>Banashankari</td>\n",
       "      <td>Cafe</td>\n",
       "      <td>Cafe, Italian, Continental</td>\n",
       "      <td>₹ 700.00</td>\n",
       "    </tr>\n",
       "    <tr>\n",
       "      <th>9</th>\n",
       "      <td>Smacznego</td>\n",
       "      <td>Yes</td>\n",
       "      <td>No</td>\n",
       "      <td>4.2/5</td>\n",
       "      <td>504.0</td>\n",
       "      <td>Banashankari</td>\n",
       "      <td>Cafe</td>\n",
       "      <td>Cafe, Mexican, Italian, Momos, Beverages</td>\n",
       "      <td>₹ 550.00</td>\n",
       "    </tr>\n",
       "  </tbody>\n",
       "</table>\n",
       "</div>"
      ],
      "text/plain": [
       "                                              name online_order book_table  \\\n",
       "0                                            Jalsa          Yes        Yes   \n",
       "1                                   Spice Elephant          Yes         No   \n",
       "2                                  San Churro Cafe          Yes         No   \n",
       "3                            Addhuri Udupi Bhojana           No         No   \n",
       "4                                    Grand Village           No         No   \n",
       "5                                  Timepass Dinner          Yes         No   \n",
       "6  Rosewood International Hotel - Bar & Restaurant           No         No   \n",
       "7                                           Onesta          Yes        Yes   \n",
       "8                                   Penthouse Cafe          Yes         No   \n",
       "9                                        Smacznego          Yes         No   \n",
       "\n",
       "    rate   votes      location            rest_type  \\\n",
       "0  4.1/5   775.0  Banashankari        Casual Dining   \n",
       "1  4.1/5   787.0  Banashankari        Casual Dining   \n",
       "2  3.8/5   918.0  Banashankari  Cafe, Casual Dining   \n",
       "3  3.7/5    88.0  Banashankari          Quick Bites   \n",
       "4  3.8/5   166.0  Basavanagudi        Casual Dining   \n",
       "5  3.8/5   286.0  Basavanagudi        Casual Dining   \n",
       "6  3.6/5     8.0   Mysore Road        Casual Dining   \n",
       "7  4.6/5  2556.0  Banashankari  Casual Dining, Cafe   \n",
       "8  4.0/5   324.0  Banashankari                 Cafe   \n",
       "9  4.2/5   504.0  Banashankari                 Cafe   \n",
       "\n",
       "                                      cuisines approx_cost(for two people)  \n",
       "0               North Indian, Mughlai, Chinese                    ₹ 800.00  \n",
       "1                  Chinese, North Indian, Thai                    ₹ 800.00  \n",
       "2                       Cafe, Mexican, Italian                    ₹ 800.00  \n",
       "3                   South Indian, North Indian                    ₹ 300.00  \n",
       "4                     North Indian, Rajasthani                    ₹ 600.00  \n",
       "5                                 North Indian                    ₹ 600.00  \n",
       "6  North Indian, South Indian, Andhra, Chinese                    ₹ 800.00  \n",
       "7                         Pizza, Cafe, Italian                    ₹ 600.00  \n",
       "8                   Cafe, Italian, Continental                    ₹ 700.00  \n",
       "9     Cafe, Mexican, Italian, Momos, Beverages                    ₹ 550.00  "
      ]
     },
     "execution_count": 232,
     "metadata": {},
     "output_type": "execute_result"
    }
   ],
   "source": [
    "data = pd.read_csv('Zomato.csv')\n",
    "data.head(10)"
   ]
  },
  {
   "cell_type": "markdown",
   "metadata": {},
   "source": [
    "Checking the 'online_order' column"
   ]
  },
  {
   "cell_type": "code",
   "execution_count": 233,
   "metadata": {},
   "outputs": [
    {
     "data": {
      "text/plain": [
       "Yes                   510\n",
       "No                    485\n",
       "yes                     3\n",
       "MG Road                 1\n",
       "Drinks & nightlife      1\n",
       "Name: online_order, dtype: int64"
      ]
     },
     "execution_count": 233,
     "metadata": {},
     "output_type": "execute_result"
    }
   ],
   "source": [
    "data['online_order'].value_counts()"
   ]
  },
  {
   "cell_type": "code",
   "execution_count": 234,
   "metadata": {},
   "outputs": [
    {
     "data": {
      "text/plain": [
       "Yes    513\n",
       "No     487\n",
       "Name: online_order, dtype: int64"
      ]
     },
     "execution_count": 234,
     "metadata": {},
     "output_type": "execute_result"
    }
   ],
   "source": [
    "    #* Replacing the bad values\n",
    "    #* We assumed that the two wrong values added were a 'No' for online order\n",
    "data['online_order'] = data['online_order'].replace(['yes', 'MG Road', 'Drinks & nightlife'],['Yes', 'No', 'No'])\n",
    "data['online_order'].value_counts()"
   ]
  },
  {
   "cell_type": "markdown",
   "metadata": {},
   "source": [
    "Now, we check the book_table column"
   ]
  },
  {
   "cell_type": "code",
   "execution_count": 235,
   "metadata": {},
   "outputs": [
    {
     "data": {
      "text/plain": [
       "No     791\n",
       "Yes    206\n",
       "yes      2\n",
       "no       1\n",
       "Name: book_table, dtype: int64"
      ]
     },
     "execution_count": 235,
     "metadata": {},
     "output_type": "execute_result"
    }
   ],
   "source": [
    "data['book_table'].value_counts()"
   ]
  },
  {
   "cell_type": "code",
   "execution_count": 236,
   "metadata": {},
   "outputs": [
    {
     "data": {
      "text/plain": [
       "No     792\n",
       "Yes    208\n",
       "Name: book_table, dtype: int64"
      ]
     },
     "execution_count": 236,
     "metadata": {},
     "output_type": "execute_result"
    }
   ],
   "source": [
    "data['book_table'] = data['book_table'].replace(['yes', 'no'], [\"Yes\", \"No\"])\n",
    "data['book_table'].value_counts()"
   ]
  },
  {
   "cell_type": "markdown",
   "metadata": {},
   "source": [
    "Now, we format the ratings column first and find indexes where there is no ratings"
   ]
  },
  {
   "cell_type": "code",
   "execution_count": 237,
   "metadata": {},
   "outputs": [
    {
     "data": {
      "text/plain": [
       "array(['4.1', '3.8', '3.7', '3.6', '4.6', '4.0', '4.2', '3.9', '3.1',\n",
       "       '3.0', '3.2', '3.3', '2.8', '4.4', '4.3', '1', '2.9', '3.5', '2.6',\n",
       "       '3.8 ', '3.4', '2.5', '4.7', ' 4.5', '2.7', '4.5', '4', '2.4',\n",
       "       '3.4 ', '3.0 ', '3.9 ', '3.5 ', '3.2 ', '3.7 ', '3.1 ', '2.8 ',\n",
       "       '2.7 ', '2.9 ', '4.2 ', '3.3 ', '4.0 ', '3.6 ', '4.1 ', '2.5 ',\n",
       "       '2.4 ', '1.9', '4.4 ', '4.3 ', '4.6 ', '0', '2.6 ', '4.5 ', ' 4.0',\n",
       "       '4.05', ' 2', '2.0 ', '4.7 ', '5', ' 2.0', '3', '2.1'],\n",
       "      dtype=object)"
      ]
     },
     "execution_count": 237,
     "metadata": {},
     "output_type": "execute_result"
    }
   ],
   "source": [
    "data['rate'] = data['rate'].str.replace('/5', '')\n",
    "empty_indx_lst = data[data['rate'].isnull()].index.tolist()\n",
    "data['rate'] = data['rate'].replace(['NEW', ''], ['1', '1'])\n",
    "data['rate'] = data['rate'].fillna('1')\n",
    "data['rate']=data['rate'].replace([val for val in data['rate'] if len(val)>4], '1')\n",
    "data['rate'].unique()"
   ]
  },
  {
   "cell_type": "code",
   "execution_count": 238,
   "metadata": {},
   "outputs": [
    {
     "name": "stdout",
     "output_type": "stream",
     "text": [
      "<class 'numpy.float64'>\n",
      "[4.1  3.8  3.7  3.6  4.6  4.   4.2  3.9  3.1  3.   3.2  3.3  2.8  4.4\n",
      " 4.3  1.   2.9  3.5  2.6  3.4  2.5  4.7  4.5  2.7  2.4  1.9  0.   4.05\n",
      " 2.   5.   2.1 ]\n"
     ]
    }
   ],
   "source": [
    "\n",
    "print(type(mean))\n",
    "data['rate'] = data['rate'].replace(['1'], mean)\n",
    "data['rate'] = data['rate'].fillna(mean)\n",
    "print(data['rate'].unique())"
   ]
  },
  {
   "cell_type": "code",
   "execution_count": 239,
   "metadata": {},
   "outputs": [
    {
     "name": "stdout",
     "output_type": "stream",
     "text": [
      "[]\n"
     ]
    },
    {
     "data": {
      "text/html": [
       "<div>\n",
       "<style scoped>\n",
       "    .dataframe tbody tr th:only-of-type {\n",
       "        vertical-align: middle;\n",
       "    }\n",
       "\n",
       "    .dataframe tbody tr th {\n",
       "        vertical-align: top;\n",
       "    }\n",
       "\n",
       "    .dataframe thead th {\n",
       "        text-align: right;\n",
       "    }\n",
       "</style>\n",
       "<table border=\"1\" class=\"dataframe\">\n",
       "  <thead>\n",
       "    <tr style=\"text-align: right;\">\n",
       "      <th></th>\n",
       "      <th>name</th>\n",
       "      <th>online_order</th>\n",
       "      <th>book_table</th>\n",
       "      <th>rate</th>\n",
       "      <th>votes</th>\n",
       "      <th>location</th>\n",
       "      <th>rest_type</th>\n",
       "      <th>cuisines</th>\n",
       "      <th>approx_cost(for two people)</th>\n",
       "    </tr>\n",
       "  </thead>\n",
       "  <tbody>\n",
       "    <tr>\n",
       "      <th>0</th>\n",
       "      <td>Jalsa</td>\n",
       "      <td>Yes</td>\n",
       "      <td>Yes</td>\n",
       "      <td>4.1</td>\n",
       "      <td>775.0</td>\n",
       "      <td>Banashankari</td>\n",
       "      <td>Casual Dining</td>\n",
       "      <td>North Indian, Mughlai, Chinese</td>\n",
       "      <td>₹ 800.00</td>\n",
       "    </tr>\n",
       "    <tr>\n",
       "      <th>1</th>\n",
       "      <td>Spice Elephant</td>\n",
       "      <td>Yes</td>\n",
       "      <td>No</td>\n",
       "      <td>4.1</td>\n",
       "      <td>787.0</td>\n",
       "      <td>Banashankari</td>\n",
       "      <td>Casual Dining</td>\n",
       "      <td>Chinese, North Indian, Thai</td>\n",
       "      <td>₹ 800.00</td>\n",
       "    </tr>\n",
       "    <tr>\n",
       "      <th>2</th>\n",
       "      <td>San Churro Cafe</td>\n",
       "      <td>Yes</td>\n",
       "      <td>No</td>\n",
       "      <td>3.8</td>\n",
       "      <td>918.0</td>\n",
       "      <td>Banashankari</td>\n",
       "      <td>Cafe, Casual Dining</td>\n",
       "      <td>Cafe, Mexican, Italian</td>\n",
       "      <td>₹ 800.00</td>\n",
       "    </tr>\n",
       "    <tr>\n",
       "      <th>3</th>\n",
       "      <td>Addhuri Udupi Bhojana</td>\n",
       "      <td>No</td>\n",
       "      <td>No</td>\n",
       "      <td>3.7</td>\n",
       "      <td>88.0</td>\n",
       "      <td>Banashankari</td>\n",
       "      <td>Quick Bites</td>\n",
       "      <td>South Indian, North Indian</td>\n",
       "      <td>₹ 300.00</td>\n",
       "    </tr>\n",
       "    <tr>\n",
       "      <th>4</th>\n",
       "      <td>Grand Village</td>\n",
       "      <td>No</td>\n",
       "      <td>No</td>\n",
       "      <td>3.8</td>\n",
       "      <td>166.0</td>\n",
       "      <td>Basavanagudi</td>\n",
       "      <td>Casual Dining</td>\n",
       "      <td>North Indian, Rajasthani</td>\n",
       "      <td>₹ 600.00</td>\n",
       "    </tr>\n",
       "    <tr>\n",
       "      <th>...</th>\n",
       "      <td>...</td>\n",
       "      <td>...</td>\n",
       "      <td>...</td>\n",
       "      <td>...</td>\n",
       "      <td>...</td>\n",
       "      <td>...</td>\n",
       "      <td>...</td>\n",
       "      <td>...</td>\n",
       "      <td>...</td>\n",
       "    </tr>\n",
       "    <tr>\n",
       "      <th>265</th>\n",
       "      <td>Starbucks</td>\n",
       "      <td>No</td>\n",
       "      <td>No</td>\n",
       "      <td>4.1</td>\n",
       "      <td>52.0</td>\n",
       "      <td>Bannerghatta Road</td>\n",
       "      <td>Cafe</td>\n",
       "      <td>Cafe, Desserts</td>\n",
       "      <td>₹ 700.00</td>\n",
       "    </tr>\n",
       "    <tr>\n",
       "      <th>266</th>\n",
       "      <td>Smoor</td>\n",
       "      <td>Yes</td>\n",
       "      <td>No</td>\n",
       "      <td>4.1</td>\n",
       "      <td>18.0</td>\n",
       "      <td>Bannerghatta</td>\n",
       "      <td>Dessert Parlor</td>\n",
       "      <td>Desserts, Cafe, Beverages</td>\n",
       "      <td>₹ 900.00</td>\n",
       "    </tr>\n",
       "    <tr>\n",
       "      <th>267</th>\n",
       "      <td>Kalmane Koffees</td>\n",
       "      <td>No</td>\n",
       "      <td>No</td>\n",
       "      <td>4.4</td>\n",
       "      <td>78.0</td>\n",
       "      <td>Bannerghatta Road</td>\n",
       "      <td>Cafe</td>\n",
       "      <td>Cafe</td>\n",
       "      <td>₹ 350.00</td>\n",
       "    </tr>\n",
       "    <tr>\n",
       "      <th>268</th>\n",
       "      <td>Shee-Sha Cafe</td>\n",
       "      <td>No</td>\n",
       "      <td>Yes</td>\n",
       "      <td>1.0</td>\n",
       "      <td>39.0</td>\n",
       "      <td>Bannerghatta Road</td>\n",
       "      <td>Cafe, Casual Dining</td>\n",
       "      <td>Cafe, North Indian, Chinese, Continental</td>\n",
       "      <td>₹ 800.00</td>\n",
       "    </tr>\n",
       "    <tr>\n",
       "      <th>269</th>\n",
       "      <td>Brews N Bites</td>\n",
       "      <td>Yes</td>\n",
       "      <td>No</td>\n",
       "      <td>3.7</td>\n",
       "      <td>48.0</td>\n",
       "      <td>Bannerghatta Road</td>\n",
       "      <td>Quick Bites, Cafe</td>\n",
       "      <td>Chinese, Fast Food, Cafe, Street Food, Finger ...</td>\n",
       "      <td>₹ 650.00</td>\n",
       "    </tr>\n",
       "  </tbody>\n",
       "</table>\n",
       "<p>270 rows × 9 columns</p>\n",
       "</div>"
      ],
      "text/plain": [
       "                      name online_order book_table  rate  votes  \\\n",
       "0                    Jalsa          Yes        Yes   4.1  775.0   \n",
       "1           Spice Elephant          Yes         No   4.1  787.0   \n",
       "2          San Churro Cafe          Yes         No   3.8  918.0   \n",
       "3    Addhuri Udupi Bhojana           No         No   3.7   88.0   \n",
       "4            Grand Village           No         No   3.8  166.0   \n",
       "..                     ...          ...        ...   ...    ...   \n",
       "265              Starbucks           No         No   4.1   52.0   \n",
       "266                  Smoor          Yes         No   4.1   18.0   \n",
       "267        Kalmane Koffees           No         No   4.4   78.0   \n",
       "268          Shee-Sha Cafe           No        Yes   1.0   39.0   \n",
       "269          Brews N Bites          Yes         No   3.7   48.0   \n",
       "\n",
       "              location            rest_type  \\\n",
       "0         Banashankari        Casual Dining   \n",
       "1         Banashankari        Casual Dining   \n",
       "2         Banashankari  Cafe, Casual Dining   \n",
       "3         Banashankari          Quick Bites   \n",
       "4         Basavanagudi        Casual Dining   \n",
       "..                 ...                  ...   \n",
       "265  Bannerghatta Road                 Cafe   \n",
       "266      Bannerghatta        Dessert Parlor   \n",
       "267  Bannerghatta Road                 Cafe   \n",
       "268  Bannerghatta Road  Cafe, Casual Dining   \n",
       "269  Bannerghatta Road    Quick Bites, Cafe   \n",
       "\n",
       "                                              cuisines  \\\n",
       "0                       North Indian, Mughlai, Chinese   \n",
       "1                          Chinese, North Indian, Thai   \n",
       "2                               Cafe, Mexican, Italian   \n",
       "3                           South Indian, North Indian   \n",
       "4                             North Indian, Rajasthani   \n",
       "..                                                 ...   \n",
       "265                                     Cafe, Desserts   \n",
       "266                          Desserts, Cafe, Beverages   \n",
       "267                                               Cafe   \n",
       "268           Cafe, North Indian, Chinese, Continental   \n",
       "269  Chinese, Fast Food, Cafe, Street Food, Finger ...   \n",
       "\n",
       "    approx_cost(for two people)  \n",
       "0                      ₹ 800.00  \n",
       "1                      ₹ 800.00  \n",
       "2                      ₹ 800.00  \n",
       "3                      ₹ 300.00  \n",
       "4                      ₹ 600.00  \n",
       "..                          ...  \n",
       "265                    ₹ 700.00  \n",
       "266                    ₹ 900.00  \n",
       "267                    ₹ 350.00  \n",
       "268                    ₹ 800.00  \n",
       "269                    ₹ 650.00  \n",
       "\n",
       "[270 rows x 9 columns]"
      ]
     },
     "execution_count": 239,
     "metadata": {},
     "output_type": "execute_result"
    }
   ],
   "source": [
    "data['rate'] = data['rate'].fillna(mean)\n",
    "empty_index_lst = data[data['rate'].isnull()].index.tolist()\n",
    "print(empty_index_lst)\n",
    "data.head(270)"
   ]
  }
 ],
 "metadata": {
  "interpreter": {
   "hash": "83f1e7f474bafce51020079f55845cfb1e7d5729dd743764ed0547754561bf2b"
  },
  "kernelspec": {
   "display_name": "Python 3.10.2 64-bit",
   "language": "python",
   "name": "python3"
  },
  "language_info": {
   "codemirror_mode": {
    "name": "ipython",
    "version": 3
   },
   "file_extension": ".py",
   "mimetype": "text/x-python",
   "name": "python",
   "nbconvert_exporter": "python",
   "pygments_lexer": "ipython3",
   "version": "3.10.2"
  },
  "orig_nbformat": 4
 },
 "nbformat": 4,
 "nbformat_minor": 2
}
