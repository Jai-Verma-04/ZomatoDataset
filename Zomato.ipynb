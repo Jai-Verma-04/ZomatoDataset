{
 "cells": [
  {
   "cell_type": "markdown",
   "metadata": {},
   "source": [
    "Importing the required libraries"
   ]
  },
  {
   "cell_type": "code",
   "execution_count": null,
   "metadata": {},
   "outputs": [],
   "source": [
    "import pandas as pd\n",
    "from matplotlib import pyplot as plt"
   ]
  },
  {
   "cell_type": "markdown",
   "metadata": {},
   "source": [
    "Reading the Zomato Dataset File"
   ]
  },
  {
   "cell_type": "code",
   "execution_count": null,
   "metadata": {},
   "outputs": [],
   "source": [
    "data = pd.read_csv('Zomato.csv')\n",
    "data.head(10)"
   ]
  },
  {
   "cell_type": "markdown",
   "metadata": {},
   "source": [
    "Checking the 'online_order' column"
   ]
  },
  {
   "cell_type": "code",
   "execution_count": 21,
   "metadata": {},
   "outputs": [
    {
     "data": {
      "text/plain": [
       "Yes                   510\n",
       "No                    485\n",
       "yes                     3\n",
       "MG Road                 1\n",
       "Drinks & nightlife      1\n",
       "Name: online_order, dtype: int64"
      ]
     },
     "execution_count": 21,
     "metadata": {},
     "output_type": "execute_result"
    }
   ],
   "source": [
    "data['online_order'].value_counts()"
   ]
  },
  {
   "cell_type": "code",
   "execution_count": 29,
   "metadata": {},
   "outputs": [
    {
     "data": {
      "text/plain": [
       "Yes    513\n",
       "No     487\n",
       "Name: online_order, dtype: int64"
      ]
     },
     "execution_count": 29,
     "metadata": {},
     "output_type": "execute_result"
    }
   ],
   "source": [
    "    #* Replacing the bad values\n",
    "    #* We assumed that the two wrong values added were a 'No' for online order\n",
    "data['online_order'] = data['online_order'].replace(['yes', 'MG Road', 'Drinks & nightlife'],['Yes', 'No', 'No'])\n",
    "data['online_order'].value_counts()"
   ]
  },
  {
   "cell_type": "markdown",
   "metadata": {},
   "source": [
    "Now, we check the book_table column"
   ]
  },
  {
   "cell_type": "code",
   "execution_count": 25,
   "metadata": {},
   "outputs": [
    {
     "data": {
      "text/plain": [
       "No     791\n",
       "Yes    206\n",
       "yes      2\n",
       "no       1\n",
       "Name: book_table, dtype: int64"
      ]
     },
     "execution_count": 25,
     "metadata": {},
     "output_type": "execute_result"
    }
   ],
   "source": [
    "data['book_table'].value_counts()"
   ]
  },
  {
   "cell_type": "code",
   "execution_count": 32,
   "metadata": {},
   "outputs": [
    {
     "data": {
      "text/plain": [
       "No     792\n",
       "Yes    208\n",
       "Name: book_table, dtype: int64"
      ]
     },
     "execution_count": 32,
     "metadata": {},
     "output_type": "execute_result"
    }
   ],
   "source": [
    "data['book_table'] = data['book_table'].replace(['yes', 'no'], [\"Yes\", \"No\"])\n",
    "data['book_table'].value_counts()"
   ]
  },
  {
   "cell_type": "markdown",
   "metadata": {},
   "source": [
    "Now, we format the ratings column first and find indexes where there is no ratings"
   ]
  },
  {
   "cell_type": "code",
   "execution_count": 135,
   "metadata": {},
   "outputs": [
    {
     "data": {
      "text/plain": [
       "array(['0', '3.9', '3.8', '4.2', '3.6', '3.4', '4.0', '3.7', '2.9', '3.3',\n",
       "       '3.2', '4.3', '3.1', '4.7', '4.1', '3.0', ' 4.5', '2.7', '4.4',\n",
       "       '2.6', '4.5', '4', '3.5', '2.4', '2.8', \" ('Rated 5.0'\", '2.5',\n",
       "       '3.8 ', '3.4 ', '3.0 ', '3.9 ', '3.5 ', '3.2 ', '3.7 ', '3.1 ',\n",
       "       '2.8 ', '2.7 ', '2.9 ', '4.2 ', '3.3 ', \" ('Rated 3.5'\", '4.0 ',\n",
       "       '3.6 ', '4.1 ', '2.5 ', '2.4 ', '1.9', \" ('Rated 4.0'\", '02-May',\n",
       "       \" ('Rated 2.5'\", '4.4 ', '03-May', \" ('Rated 2.0'\", '4.3 ', '4.6 ',\n",
       "       ' highly recommended.', \" 'Rated 4.0'\", '00-Jan', '2.6 ', '4.5 ',\n",
       "       \" Rated 3.0'\", ' 4.0', '4.05', '4.6', ' 2', '2.0 ', '4.7 ',\n",
       "       ' Rated 5.', \" 'Rated 5.0'\", '5', ' 2.0', '3', '2.1'], dtype=object)"
      ]
     },
     "execution_count": 135,
     "metadata": {},
     "output_type": "execute_result"
    }
   ],
   "source": [
    "data['rate'] = data['rate'].str.replace('/5', '')\n",
    "empty_indx_lst = data[data['rate'].isnull()].index.tolist()\n",
    "data['rate'] = data['rate'].replace(['NEW', ''], ['0', '0'])\n",
    "data['rate'] = data['rate'].fillna('0')\n",
    "data['rate'].unique()\n",
    "\n"
   ]
  }
 ],
 "metadata": {
  "interpreter": {
   "hash": "83f1e7f474bafce51020079f55845cfb1e7d5729dd743764ed0547754561bf2b"
  },
  "kernelspec": {
   "display_name": "Python 3.10.2 64-bit",
   "language": "python",
   "name": "python3"
  },
  "language_info": {
   "codemirror_mode": {
    "name": "ipython",
    "version": 3
   },
   "file_extension": ".py",
   "mimetype": "text/x-python",
   "name": "python",
   "nbconvert_exporter": "python",
   "pygments_lexer": "ipython3",
   "version": "3.10.2"
  },
  "orig_nbformat": 4
 },
 "nbformat": 4,
 "nbformat_minor": 2
}
